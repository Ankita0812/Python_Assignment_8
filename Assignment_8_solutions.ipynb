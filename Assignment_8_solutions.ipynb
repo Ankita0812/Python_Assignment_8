{
 "cells": [
  {
   "cell_type": "markdown",
   "id": "1a53c75d",
   "metadata": {},
   "source": [
    "1. Is the Python Standard Library included with PyInputPlus?"
   ]
  },
  {
   "cell_type": "markdown",
   "id": "191ed548",
   "metadata": {},
   "source": [
    "A) PyInputPlus is not a part of the standard python library and needs to be installed separately using pip command\n",
    "!pip install pyinputplus"
   ]
  },
  {
   "cell_type": "markdown",
   "id": "b6c706bc",
   "metadata": {},
   "source": [
    "2. Why is PyInputPlus commonly imported with import pyinputplus as pypi?"
   ]
  },
  {
   "cell_type": "markdown",
   "id": "31ad7b65",
   "metadata": {},
   "source": [
    "A) pypi is an alias for pyinputplus.we need not write the entire name of the module each time we want to call the pyinputplus  module's function, instead we can call it using alias pypi"
   ]
  },
  {
   "cell_type": "markdown",
   "id": "816750ec",
   "metadata": {},
   "source": [
    "3. How do you distinguish between inputInt() and inputFloat()?"
   ]
  },
  {
   "cell_type": "markdown",
   "id": "17888022",
   "metadata": {},
   "source": [
    "A) inputInt() - Accepts an int value and returns an int. Takes additional parameters like Min, Max for inclusive bounds and greaterThan\\lessThan for exclusive bounds\n",
    "inputFloat() - Accepts a Int\\float value and returns a float. Takes additional parameters like Min, Max for inclusive bounds and greaterThan\\lessThan for exclusive bounds"
   ]
  },
  {
   "cell_type": "code",
   "execution_count": 1,
   "id": "469bbf55",
   "metadata": {},
   "outputs": [
    {
     "name": "stdout",
     "output_type": "stream",
     "text": [
      "Collecting pyinputplus\n",
      "  Downloading PyInputPlus-0.2.12.tar.gz (20 kB)\n",
      "  Installing build dependencies: started\n",
      "  Installing build dependencies: finished with status 'done'\n",
      "  Getting requirements to build wheel: started\n",
      "  Getting requirements to build wheel: finished with status 'done'\n",
      "    Preparing wheel metadata: started\n",
      "    Preparing wheel metadata: finished with status 'done'\n",
      "Collecting stdiomask>=0.0.3\n",
      "  Downloading stdiomask-0.0.6.tar.gz (3.6 kB)\n",
      "  Installing build dependencies: started\n",
      "  Installing build dependencies: finished with status 'done'\n",
      "  Getting requirements to build wheel: started\n",
      "  Getting requirements to build wheel: finished with status 'done'\n",
      "    Preparing wheel metadata: started\n",
      "    Preparing wheel metadata: finished with status 'done'\n",
      "Collecting pysimplevalidate>=0.2.7\n",
      "  Downloading PySimpleValidate-0.2.12.tar.gz (22 kB)\n",
      "  Installing build dependencies: started\n",
      "  Installing build dependencies: finished with status 'done'\n",
      "  Getting requirements to build wheel: started\n",
      "  Getting requirements to build wheel: finished with status 'done'\n",
      "    Preparing wheel metadata: started\n",
      "    Preparing wheel metadata: finished with status 'done'\n",
      "Building wheels for collected packages: pyinputplus, pysimplevalidate, stdiomask\n",
      "  Building wheel for pyinputplus (PEP 517): started\n",
      "  Building wheel for pyinputplus (PEP 517): finished with status 'done'\n",
      "  Created wheel for pyinputplus: filename=PyInputPlus-0.2.12-py3-none-any.whl size=11297 sha256=a893b30e0669bd7dab252d45bb9844a862e8ac2dcde4de44e0afd40a9529ac27\n",
      "  Stored in directory: c:\\users\\ankita\\appdata\\local\\pip\\cache\\wheels\\b9\\b4\\e7\\825446929f44b25d05f4df52bc4f7d211e5dec4c547126a098\n",
      "  Building wheel for pysimplevalidate (PEP 517): started\n",
      "  Building wheel for pysimplevalidate (PEP 517): finished with status 'done'\n",
      "  Created wheel for pysimplevalidate: filename=PySimpleValidate-0.2.12-py3-none-any.whl size=16175 sha256=2f7424df1f1f8a28e71902394c9c69fecef865fab64020cfd42e44bf5aebd84b\n",
      "  Stored in directory: c:\\users\\ankita\\appdata\\local\\pip\\cache\\wheels\\bd\\d4\\a5\\a003719238ab12962e430310093e567ab7d29bc3bfe062b14c\n",
      "  Building wheel for stdiomask (PEP 517): started\n",
      "  Building wheel for stdiomask (PEP 517): finished with status 'done'\n",
      "  Created wheel for stdiomask: filename=stdiomask-0.0.6-py3-none-any.whl size=3306 sha256=82005c6bdbdd7de34b2e02de92b229c7887097eddc7fde75d18e473ffab0b684\n",
      "  Stored in directory: c:\\users\\ankita\\appdata\\local\\pip\\cache\\wheels\\c1\\e9\\4e\\bcdfc282cffe91bb88e951ad9a05fb166ed6460bbe3c6dc02b\n",
      "Successfully built pyinputplus pysimplevalidate stdiomask\n",
      "Installing collected packages: stdiomask, pysimplevalidate, pyinputplus\n",
      "Successfully installed pyinputplus-0.2.12 pysimplevalidate-0.2.12 stdiomask-0.0.6\n"
     ]
    }
   ],
   "source": [
    "!pip install pyinputplus"
   ]
  },
  {
   "cell_type": "code",
   "execution_count": 2,
   "id": "5ebb150d",
   "metadata": {},
   "outputs": [],
   "source": [
    "import pyinputplus as pypi"
   ]
  },
  {
   "cell_type": "code",
   "execution_count": 6,
   "id": "e7cbd34e",
   "metadata": {},
   "outputs": [
    {
     "name": "stdout",
     "output_type": "stream",
     "text": [
      "5\n"
     ]
    },
    {
     "data": {
      "text/plain": [
       "5"
      ]
     },
     "execution_count": 6,
     "metadata": {},
     "output_type": "execute_result"
    }
   ],
   "source": [
    "result = pypi.inputInt()"
   ]
  },
  {
   "cell_type": "code",
   "execution_count": 9,
   "id": "677b234d",
   "metadata": {},
   "outputs": [
    {
     "name": "stdout",
     "output_type": "stream",
     "text": [
      "9.2\n"
     ]
    }
   ],
   "source": [
    "result = pypi.inputFloat()"
   ]
  },
  {
   "cell_type": "markdown",
   "id": "32b74025",
   "metadata": {},
   "source": [
    "4. Using PyInputPlus, how do you ensure that the user enters a whole number between 0 and 99?"
   ]
  },
  {
   "cell_type": "markdown",
   "id": "94c07010",
   "metadata": {},
   "source": [
    "A) By setting the min parameter to 0 and max parameter to 100 for inputInt() function."
   ]
  },
  {
   "cell_type": "code",
   "execution_count": 5,
   "id": "af59c0d0",
   "metadata": {},
   "outputs": [
    {
     "name": "stdout",
     "output_type": "stream",
     "text": [
      "999\n",
      "Number must be at maximum 99.\n",
      "89\n"
     ]
    },
    {
     "data": {
      "text/plain": [
       "89"
      ]
     },
     "execution_count": 5,
     "metadata": {},
     "output_type": "execute_result"
    }
   ],
   "source": [
    "pypi.inputInt(min = 0, max = 99)"
   ]
  },
  {
   "cell_type": "markdown",
   "id": "cdb8399e",
   "metadata": {},
   "source": [
    "5. What is transferred to the keyword arguments allowRegexes and blockRegexes?"
   ]
  },
  {
   "cell_type": "markdown",
   "id": "7b5a0567",
   "metadata": {},
   "source": [
    "A) allowRegexes and blockRegexes both the arguments take regular expressions. allowRegexes argument is used in pypi functions to whitelist a user input while blockRegexes is used in pypi functions to blacklist a user input."
   ]
  },
  {
   "cell_type": "markdown",
   "id": "32e26577",
   "metadata": {},
   "source": [
    "6. If a blank input is entered three times, what does inputStr(limit=3) do?"
   ]
  },
  {
   "cell_type": "markdown",
   "id": "b2f95593",
   "metadata": {},
   "source": [
    "A) The user has three tries to enter a valid input after which the pypi functions raises a RetryLimitException exception."
   ]
  },
  {
   "cell_type": "markdown",
   "id": "6941624d",
   "metadata": {},
   "source": [
    "7. If blank input is entered three times, what does inputStr(limit=3, default='hello') do?"
   ]
  },
  {
   "cell_type": "markdown",
   "id": "c7b3aea8",
   "metadata": {},
   "source": [
    "A) The user has three tries to enter a valid input after which the function returns the default value of 'hello' instead of throwing an exception."
   ]
  }
 ],
 "metadata": {
  "kernelspec": {
   "display_name": "Python 3",
   "language": "python",
   "name": "python3"
  },
  "language_info": {
   "codemirror_mode": {
    "name": "ipython",
    "version": 3
   },
   "file_extension": ".py",
   "mimetype": "text/x-python",
   "name": "python",
   "nbconvert_exporter": "python",
   "pygments_lexer": "ipython3",
   "version": "3.8.8"
  }
 },
 "nbformat": 4,
 "nbformat_minor": 5
}
